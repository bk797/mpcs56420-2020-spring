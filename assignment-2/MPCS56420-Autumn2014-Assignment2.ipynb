{
 "metadata": {
  "name": "",
  "signature": "sha256:3b164ca1aeed6ee2074cdabb036e567a44c74a2e26542ae76b80f10bbc527abd"
 },
 "nbformat": 3,
 "nbformat_minor": 0,
 "worksheets": [
  {
   "cells": [
    {
     "cell_type": "heading",
     "level": 1,
     "metadata": {},
     "source": [
      "1."
     ]
    },
    {
     "cell_type": "markdown",
     "metadata": {},
     "source": [
      "A study was published to better understand how specific genes may play a role in the polarizing herb cilantro.  Investigate this further by answering the following questions:\n",
      "\n",
      "* Find the study by Nicholas Eriksson et.al.  What journal is in?  Is this journal in pubmed?  How many first author publications does the author have?\n",
      "* From the article, what genes are implicanted in the taste sensitivity?  Provide accession numbers and a short description of each.\n",
      "* Using HomoloGene from NCBI, identify other species that have the conserved gene.\n"
     ]
    },
    {
     "cell_type": "code",
     "collapsed": false,
     "input": [],
     "language": "python",
     "metadata": {},
     "outputs": []
    },
    {
     "cell_type": "heading",
     "level": 1,
     "metadata": {},
     "source": [
      "2."
     ]
    },
    {
     "cell_type": "markdown",
     "metadata": {},
     "source": [
      "Ebola virus (_Zaire ebolavirus_) is the most dangerous known viruses within the genus Ebolavirus. The virus is transmitted to people from wild animals and spreads in the human population through human-to-human transmission.  Four of the five known ebolaviruses cause a severe and often fatal hemorrhagic fever in humans and other mammals, known as Ebola virus disease.\n",
      "* Find a recent publication discussing Ebola virus on PubMed.  What is its PMID (PubMed id)?\n",
      "* How may species are in the genus ebolaviruses?\n",
      "* How may genes does _Zaire ebolavirus_ virus have? List and provide a short description of each."
     ]
    },
    {
     "cell_type": "code",
     "collapsed": false,
     "input": [],
     "language": "python",
     "metadata": {},
     "outputs": []
    },
    {
     "cell_type": "heading",
     "level": 1,
     "metadata": {},
     "source": [
      "3."
     ]
    },
    {
     "cell_type": "markdown",
     "metadata": {},
     "source": [
      "Find the nucleotide record with the accession number NM_005368.2. \n",
      "* How is this sequence described in the definition field?\n",
      "* How many exons are annotated in the Features table.\n",
      "* What is the numerical location of the poly A signal?\n",
      "* Look at the revision history. On what date did the sequence change?\n",
      "* Compare the before and after for the sequence change. How many nucleotides were added?\n",
      "* Are there any diseases associated with gene?"
     ]
    },
    {
     "cell_type": "code",
     "collapsed": false,
     "input": [],
     "language": "python",
     "metadata": {},
     "outputs": []
    },
    {
     "cell_type": "heading",
     "level": 1,
     "metadata": {},
     "source": [
      "4."
     ]
    },
    {
     "cell_type": "markdown",
     "metadata": {},
     "source": [
      "Mark Boguski's paper on the Jurassic Park was noticed by Michael Crichton and he was hired as a consultant for the sequel, \"The Lost World\".  He supplied a new sequence to be referenced in the book.  Download the [sequence from here](http://uchicago.link/sessions/session2/dino_dna_lost_world.fa.txt) and determine if this sequence was a better choice using nucleotide-nucleotide BLAST.  Can you find his original paper linked on PubMed?  Why or why not?\n",
      "\n",
      "Mark also encoded a secret message in the translated version of seqeunce.  Using translating BLAST (blastx), you can read the message \"MARK WAS HERE NIH\" in the sequence of aligned homologs.\n"
     ]
    },
    {
     "cell_type": "code",
     "collapsed": false,
     "input": [],
     "language": "python",
     "metadata": {},
     "outputs": []
    },
    {
     "cell_type": "heading",
     "level": 1,
     "metadata": {},
     "source": [
      "6."
     ]
    },
    {
     "cell_type": "markdown",
     "metadata": {},
     "source": [
      "The Entrez Programming Utilities (E-utilities) are a set of nine server-side programs that provide a stable interface into the Entrez query and database system at the National Center for Biotechnology Information (NCBI). The E-utilities use a fixed URL syntax that translates a standard set of input parameters into the values necessary for various NCBI software components to search for and retrieve the requested data. Combining E-utilities components to form customized data pipelines within these applications is a powerful approach to data manipulation.\n",
      "\n",
      "NCBI resources for Eutils:\n",
      "* [A General Introduction to the E-utilities](http://www.ncbi.nlm.nih.gov/books/NBK25497/)\n",
      "* [E-utilities Quick Start](http://www.ncbi.nlm.nih.gov/sites/books/NBK25500/)\n",
      "* [Entrez Programming Utilities Help](http://www.ncbi.nlm.nih.gov/books/NBK25501/)\n",
      "\n",
      "Use the E-utilities API to update your script from Assignment 1.  Your script should be able to take an accession number as input retrieve the sequence from NCBI before identifying the open reading frames.  Your script should also (optionally) save the downloaded sequence into a file in the format `accession_number.fa`.\n",
      "\n",
      "We will test it using NCBI record NM_005368.2."
     ]
    },
    {
     "cell_type": "code",
     "collapsed": false,
     "input": [],
     "language": "python",
     "metadata": {},
     "outputs": []
    },
    {
     "cell_type": "heading",
     "level": 1,
     "metadata": {},
     "source": [
      "7."
     ]
    },
    {
     "cell_type": "markdown",
     "metadata": {},
     "source": [
      "Next weeks assignment will require you to work with [Google App Engine](https://cloud.google.com/appengine/) to display aligned sequences.  This will require taking 2 sequences as input on a web form, performing the alignment and displaying the results in a table.  To familiarize yourself with the App Engine SDK, please go through the [App Engine Python Tutorial](https://cloud.google.com/appengine/docs/python/gettingstartedpython27/introduction).  \n",
      "\n",
      "Upload your application and type the url below."
     ]
    },
    {
     "cell_type": "code",
     "collapsed": false,
     "input": [],
     "language": "python",
     "metadata": {},
     "outputs": []
    }
   ],
   "metadata": {}
  }
 ]
}